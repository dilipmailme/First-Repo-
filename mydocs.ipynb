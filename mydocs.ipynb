{
  "nbformat": 4,
  "nbformat_minor": 0,
  "metadata": {
    "colab": {
      "name": "mydocs.ipynb",
      "provenance": [],
      "authorship_tag": "ABX9TyOUprYcKZyhpRIIfGJyNDu6",
      "include_colab_link": true
    },
    "kernelspec": {
      "name": "python3",
      "display_name": "Python 3"
    },
    "language_info": {
      "name": "python"
    }
  },
  "cells": [
    {
      "cell_type": "markdown",
      "metadata": {
        "id": "view-in-github",
        "colab_type": "text"
      },
      "source": [
        "<a href=\"https://colab.research.google.com/github/dilipmailme/First-Repo-/blob/main/mydocs.ipynb\" target=\"_parent\"><img src=\"https://colab.research.google.com/assets/colab-badge.svg\" alt=\"Open In Colab\"/></a>"
      ]
    },
    {
      "cell_type": "code",
      "metadata": {
        "id": "cUwYdkdxSErI"
      },
      "source": [
        "def hello():\n",
        "  return \"hi\"\n",
        "  hello()\n",
        "  \n"
      ],
      "execution_count": 1,
      "outputs": []
    },
    {
      "cell_type": "markdown",
      "metadata": {
        "id": "gF8vg1KISt2J"
      },
      "source": [
        "##first"
      ]
    },
    {
      "cell_type": "markdown",
      "metadata": {
        "id": "KWhN7xAfSv7B"
      },
      "source": [
        "##Second"
      ]
    },
    {
      "cell_type": "markdown",
      "metadata": {
        "id": "tewioJTDSzOn"
      },
      "source": [
        "###This is markdown"
      ]
    }
  ]
}